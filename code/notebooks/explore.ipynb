{
 "cells": [
  {
   "cell_type": "code",
   "execution_count": 19,
   "metadata": {},
   "outputs": [],
   "source": [
    "import pandas as pd"
   ]
  },
  {
   "cell_type": "code",
   "execution_count": 20,
   "metadata": {},
   "outputs": [
    {
     "name": "stdout",
     "output_type": "stream",
     "text": [
      "Columns before pruning: Index(['claim_number', 'plaintiff_name', 'summary_allegations',\n",
      "       'amount_awarded', 'incident_date', 'closed_date', 'claim_or_lawsuit',\n",
      "       'city', 'state', 'denied_date', 'calendar_year', 'incident_year',\n",
      "       'matter_name', 'court', 'docket_number', 'filed_date', 'filed_year',\n",
      "       'location', 'other_expenses', 'collection', 'total_incurred',\n",
      "       'plaintiff_attorney', 'case_outcome', 'amount_demanded'],\n",
      "      dtype='object')\n"
     ]
    }
   ],
   "source": [
    "atlanta = pd.read_csv('/Users/praveenjutur/Projects/fivethirtyeight_police_settlements/final_538_files/atlanta_edited.csv')\n",
    "print(f\"Columns before pruning: {atlanta.columns}\")"
   ]
  },
  {
   "cell_type": "markdown",
   "metadata": {},
   "source": [
    "I am removing the columns that are specific to the case/settlement. I am not interested in individual case(s) particulars at the time."
   ]
  },
  {
   "cell_type": "code",
   "execution_count": 21,
   "metadata": {},
   "outputs": [
    {
     "name": "stdout",
     "output_type": "stream",
     "text": [
      "Columns after 1st round of pruning: Index(['summary_allegations', 'amount_awarded', 'incident_date', 'closed_date',\n",
      "       'claim_or_lawsuit', 'city', 'state', 'denied_date', 'calendar_year',\n",
      "       'incident_year', 'filed_date', 'filed_year', 'total_incurred',\n",
      "       'case_outcome', 'amount_demanded'],\n",
      "      dtype='object')\n"
     ]
    }
   ],
   "source": [
    "atlanta.drop(columns=['claim_number', 'plaintiff_name', \n",
    "       'matter_name', 'court', 'docket_number',\n",
    "       'location', 'other_expenses', 'collection', \n",
    "       'plaintiff_attorney'], inplace=True)\n",
    "print(f\"Columns after 1st round of pruning: {atlanta.columns}\")"
   ]
  },
  {
   "cell_type": "markdown",
   "metadata": {},
   "source": [
    "Retain or extract the year of jusdgement/settlement/case closed. Ignore rest of the dates. I already have calendar year in the data, which is exactly I need. Check if that column as values for all rows, if not what to do.\n",
    "\n",
    "Questions:\n",
    "1. How many rows are missing the calendar year value?\n",
    "    - None, so we can delete all the date columns."
   ]
  },
  {
   "cell_type": "code",
   "execution_count": 22,
   "metadata": {},
   "outputs": [
    {
     "name": "stdout",
     "output_type": "stream",
     "text": [
      "Number of rows missing value in calendar year column: 0\n"
     ]
    }
   ],
   "source": [
    "print(f\"Number of rows missing value in calendar year column: {atlanta.calendar_year.isnull().sum()}\")"
   ]
  },
  {
   "cell_type": "code",
   "execution_count": 23,
   "metadata": {},
   "outputs": [],
   "source": [
    "atlanta.drop(columns=['incident_date', 'closed_date','denied_date','incident_year', 'filed_date', 'filed_year','total_incurred'],inplace=True)\n"
   ]
  },
  {
   "cell_type": "code",
   "execution_count": 24,
   "metadata": {},
   "outputs": [
    {
     "data": {
      "text/html": [
       "<div>\n",
       "<style scoped>\n",
       "    .dataframe tbody tr th:only-of-type {\n",
       "        vertical-align: middle;\n",
       "    }\n",
       "\n",
       "    .dataframe tbody tr th {\n",
       "        vertical-align: top;\n",
       "    }\n",
       "\n",
       "    .dataframe thead th {\n",
       "        text-align: right;\n",
       "    }\n",
       "</style>\n",
       "<table border=\"1\" class=\"dataframe\">\n",
       "  <thead>\n",
       "    <tr style=\"text-align: right;\">\n",
       "      <th></th>\n",
       "      <th>summary_allegations</th>\n",
       "      <th>amount_awarded</th>\n",
       "      <th>claim_or_lawsuit</th>\n",
       "      <th>city</th>\n",
       "      <th>state</th>\n",
       "      <th>calendar_year</th>\n",
       "      <th>case_outcome</th>\n",
       "      <th>amount_demanded</th>\n",
       "    </tr>\n",
       "  </thead>\n",
       "  <tbody>\n",
       "    <tr>\n",
       "      <th>0</th>\n",
       "      <td>Department: Police; Summary Allegations: Other</td>\n",
       "      <td>1970.04</td>\n",
       "      <td>claim</td>\n",
       "      <td>Atlanta</td>\n",
       "      <td>GA</td>\n",
       "      <td>2014</td>\n",
       "      <td>NaN</td>\n",
       "      <td>NaN</td>\n",
       "    </tr>\n",
       "    <tr>\n",
       "      <th>1</th>\n",
       "      <td>Department: Police; Summary Allegations: Other</td>\n",
       "      <td>179.00</td>\n",
       "      <td>claim</td>\n",
       "      <td>Atlanta</td>\n",
       "      <td>GA</td>\n",
       "      <td>2014</td>\n",
       "      <td>NaN</td>\n",
       "      <td>NaN</td>\n",
       "    </tr>\n",
       "    <tr>\n",
       "      <th>2</th>\n",
       "      <td>Department: Police; Summary Allegations: Other</td>\n",
       "      <td>100.00</td>\n",
       "      <td>claim</td>\n",
       "      <td>Atlanta</td>\n",
       "      <td>GA</td>\n",
       "      <td>2014</td>\n",
       "      <td>NaN</td>\n",
       "      <td>NaN</td>\n",
       "    </tr>\n",
       "    <tr>\n",
       "      <th>3</th>\n",
       "      <td>Department: Police; Summary Allegations: Wrong...</td>\n",
       "      <td>17500.00</td>\n",
       "      <td>claim</td>\n",
       "      <td>Atlanta</td>\n",
       "      <td>GA</td>\n",
       "      <td>2014</td>\n",
       "      <td>NaN</td>\n",
       "      <td>NaN</td>\n",
       "    </tr>\n",
       "    <tr>\n",
       "      <th>4</th>\n",
       "      <td>Department: Courts; Summary Allegations: Wrong...</td>\n",
       "      <td>907.00</td>\n",
       "      <td>claim</td>\n",
       "      <td>Atlanta</td>\n",
       "      <td>GA</td>\n",
       "      <td>2015</td>\n",
       "      <td>NaN</td>\n",
       "      <td>NaN</td>\n",
       "    </tr>\n",
       "  </tbody>\n",
       "</table>\n",
       "</div>"
      ],
      "text/plain": [
       "                                 summary_allegations  amount_awarded  \\\n",
       "0     Department: Police; Summary Allegations: Other         1970.04   \n",
       "1     Department: Police; Summary Allegations: Other          179.00   \n",
       "2     Department: Police; Summary Allegations: Other          100.00   \n",
       "3  Department: Police; Summary Allegations: Wrong...        17500.00   \n",
       "4  Department: Courts; Summary Allegations: Wrong...          907.00   \n",
       "\n",
       "  claim_or_lawsuit     city state  calendar_year case_outcome  amount_demanded  \n",
       "0            claim  Atlanta    GA           2014          NaN              NaN  \n",
       "1            claim  Atlanta    GA           2014          NaN              NaN  \n",
       "2            claim  Atlanta    GA           2014          NaN              NaN  \n",
       "3            claim  Atlanta    GA           2014          NaN              NaN  \n",
       "4            claim  Atlanta    GA           2015          NaN              NaN  "
      ]
     },
     "execution_count": 24,
     "metadata": {},
     "output_type": "execute_result"
    }
   ],
   "source": [
    "atlanta.head()"
   ]
  },
  {
   "cell_type": "markdown",
   "metadata": {},
   "source": [
    "Check how often case_outcome is empty. Lets keep the amount_demanded for now, we can come back to if after analyzing other datasets."
   ]
  },
  {
   "cell_type": "code",
   "execution_count": null,
   "metadata": {},
   "outputs": [],
   "source": []
  }
 ],
 "metadata": {
  "interpreter": {
   "hash": "aee8b7b246df8f9039afb4144a1f6fd8d2ca17a180786b69acc140d282b71a49"
  },
  "kernelspec": {
   "display_name": "Python 3.9.13 64-bit",
   "language": "python",
   "name": "python3"
  },
  "language_info": {
   "codemirror_mode": {
    "name": "ipython",
    "version": 3
   },
   "file_extension": ".py",
   "mimetype": "text/x-python",
   "name": "python",
   "nbconvert_exporter": "python",
   "pygments_lexer": "ipython3",
   "version": "3.9.13"
  },
  "orig_nbformat": 4
 },
 "nbformat": 4,
 "nbformat_minor": 2
}
