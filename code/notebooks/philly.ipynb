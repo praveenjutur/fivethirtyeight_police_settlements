{
 "cells": [
  {
   "cell_type": "code",
   "execution_count": 3,
   "metadata": {},
   "outputs": [
    {
     "data": {
      "text/plain": [
       "Index(['calendar_year', 'city', 'state', 'incident_date', 'incident_year',\n",
       "       'filed_date', 'filed_year', 'closed_date', 'amount_awarded',\n",
       "       'other_expenses', 'collection', 'total_incurred', 'case_outcome',\n",
       "       'docket_number', 'claim_number', 'court', 'plaintiff_name',\n",
       "       'plaintiff_attorney', 'matter_name', 'location', 'summary_allegations'],\n",
       "      dtype='object')"
      ]
     },
     "execution_count": 3,
     "metadata": {},
     "output_type": "execute_result"
    }
   ],
   "source": [
    "import pandas as pd\n",
    "import numpy as np\n",
    "philly = pd.read_csv('/Users/praveenjutur/Projects/fivethirtyeight_police_settlements/final_538_files/philly_edited.csv')\n",
    "philly.columns"
   ]
  },
  {
   "cell_type": "code",
   "execution_count": 4,
   "metadata": {},
   "outputs": [
    {
     "name": "stdout",
     "output_type": "stream",
     "text": [
      "Remaining columns in the data: Index(['calendar_year', 'city', 'state', 'amount_awarded', 'case_outcome',\n",
      "       'summary_allegations'],\n",
      "      dtype='object')\n"
     ]
    }
   ],
   "source": [
    "#Drop unnecessary columns\n",
    "philly.drop(columns=['plaintiff_attorney', 'matter_name', 'location','docket_number', 'claim_number', 'court', 'plaintiff_name','other_expenses', 'collection', 'total_incurred','incident_date', 'incident_year',\n",
    "       'filed_date', 'filed_year', 'closed_date'], inplace=True)\n",
    "print(f\"Remaining columns in the data: {philly.columns}\")"
   ]
  },
  {
   "cell_type": "code",
   "execution_count": 7,
   "metadata": {},
   "outputs": [
    {
     "data": {
      "text/plain": [
       "Index(['calendar_year', 'city', 'state', 'amount_awarded', 'case_outcome',\n",
       "       'summary_allegations', 'Claim_or_lawsuit', 'Amount_demanded'],\n",
       "      dtype='object')"
      ]
     },
     "execution_count": 7,
     "metadata": {},
     "output_type": "execute_result"
    }
   ],
   "source": [
    "philly['Claim_or_lawsuit'] = np.nan\n",
    "philly['Amount_demanded'] = np.nan \n",
    "philly.columns\n"
   ]
  },
  {
   "cell_type": "code",
   "execution_count": 8,
   "metadata": {},
   "outputs": [],
   "source": [
    "#Write the dataset back\n",
    "philly.to_csv('/Users/praveenjutur/Projects/fivethirtyeight_police_settlements/formatted_538_files/philly.csv')"
   ]
  },
  {
   "cell_type": "code",
   "execution_count": null,
   "metadata": {},
   "outputs": [],
   "source": []
  }
 ],
 "metadata": {
  "interpreter": {
   "hash": "aee8b7b246df8f9039afb4144a1f6fd8d2ca17a180786b69acc140d282b71a49"
  },
  "kernelspec": {
   "display_name": "Python 3.9.13 64-bit",
   "language": "python",
   "name": "python3"
  },
  "language_info": {
   "codemirror_mode": {
    "name": "ipython",
    "version": 3
   },
   "file_extension": ".py",
   "mimetype": "text/x-python",
   "name": "python",
   "nbconvert_exporter": "python",
   "pygments_lexer": "ipython3",
   "version": "3.9.13"
  },
  "orig_nbformat": 4
 },
 "nbformat": 4,
 "nbformat_minor": 2
}
